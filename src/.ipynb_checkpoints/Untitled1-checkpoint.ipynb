{
 "cells": [
  {
   "cell_type": "code",
   "execution_count": null,
   "id": "015b38c3-e9c3-471d-877b-dc8de7c78b44",
   "metadata": {},
   "outputs": [],
   "source": []
  }
 ],
 "metadata": {
  "kernelspec": {
   "display_name": "",
   "name": ""
  },
  "language_info": {
   "name": ""
  }
 },
 "nbformat": 4,
 "nbformat_minor": 5
}
