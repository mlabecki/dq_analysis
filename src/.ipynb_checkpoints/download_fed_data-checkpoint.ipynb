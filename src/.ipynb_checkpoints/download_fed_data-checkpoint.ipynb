{
 "cells": [
  {
   "cell_type": "code",
   "execution_count": 27,
   "id": "2451077b-04f0-4249-aa06-3ff865e60f85",
   "metadata": {},
   "outputs": [],
   "source": [
    "import pandas as pd\n",
    "import requests\n",
    "import os\n",
    "from convert_date import *"
   ]
  },
  {
   "cell_type": "code",
   "execution_count": 28,
   "id": "c83852b3-9cd8-4975-bca1-2c016199e7c8",
   "metadata": {},
   "outputs": [],
   "source": [
    "write_dir = 'D:\\\\Python\\\\DQ_exercises\\\\DQ_exercises\\\\downloads\\\\fed_stress_test'\n",
    "fed_dir = 'https://www.federalreserve.gov/supervisionreg/files/'\n",
    "fed_file_list = [\n",
    "    '2024-Table_2A_Historic_Domestic.csv',\n",
    "    '2024-Table_2B_Historic_International.csv',\n",
    "    '2024-Table_3A_Supervisory_Baseline_Domestic.csv',\n",
    "    '2024-Table_3B_Supervisory_Baseline_International.csv',\n",
    "    '2024-Table_4A_Supervisory_Severely_Adverse_Domestic.csv',\n",
    "    '2024-Table_4B_Supervisory_Severely_Adverse_International.csv' \n",
    "]\n",
    "write_to_parquet = True\n",
    "qtype = 'fed'"
   ]
  },
  {
   "cell_type": "code",
   "execution_count": 29,
   "id": "a7b7b6e5-7ef6-4e24-9044-32490d998f14",
   "metadata": {},
   "outputs": [],
   "source": [
    "from download_data import download_from_url"
   ]
  },
  {
   "cell_type": "code",
   "execution_count": 30,
   "id": "71ab573c-3965-4a3e-99d9-007579c2c053",
   "metadata": {},
   "outputs": [
    {
     "name": "stdout",
     "output_type": "stream",
     "text": [
      "Downloading 2024-Table_2A_Historic_Domestic.csv\n"
     ]
    },
    {
     "ename": "NameError",
     "evalue": "name 'df_add_date_col' is not defined",
     "output_type": "error",
     "traceback": [
      "\u001b[1;31m---------------------------------------------------------------------------\u001b[0m",
      "\u001b[1;31mNameError\u001b[0m                                 Traceback (most recent call last)",
      "Cell \u001b[1;32mIn[30], line 1\u001b[0m\n\u001b[1;32m----> 1\u001b[0m \u001b[43mdownload_from_url\u001b[49m\u001b[43m(\u001b[49m\u001b[43mfed_file_list\u001b[49m\u001b[43m,\u001b[49m\u001b[43m \u001b[49m\u001b[43mfed_dir\u001b[49m\u001b[43m,\u001b[49m\u001b[43m \u001b[49m\u001b[43mwrite_dir\u001b[49m\u001b[43m,\u001b[49m\u001b[43m \u001b[49m\u001b[43mqtype\u001b[49m\u001b[43m,\u001b[49m\u001b[43m \u001b[49m\u001b[43mwrite_to_parquet\u001b[49m\u001b[43m)\u001b[49m\n",
      "File \u001b[1;32mD:\\Python\\DQ_Exercises\\DQ_Exercises\\src\\download_data.py:40\u001b[0m, in \u001b[0;36mdownload_from_url\u001b[1;34m(file_list, url_dir, write_dir, qtype, write_to_parquet)\u001b[0m\n\u001b[0;32m     38\u001b[0m \u001b[38;5;28;01mwith\u001b[39;00m \u001b[38;5;28mopen\u001b[39m(fpath, \u001b[38;5;124m'\u001b[39m\u001b[38;5;124mwb\u001b[39m\u001b[38;5;124m'\u001b[39m) \u001b[38;5;28;01mas\u001b[39;00m f:\n\u001b[0;32m     39\u001b[0m     f\u001b[38;5;241m.\u001b[39mwrite(response\u001b[38;5;241m.\u001b[39mcontent)\n\u001b[1;32m---> 40\u001b[0m df \u001b[38;5;241m=\u001b[39m \u001b[43mdf_add_date_col\u001b[49m(pd\u001b[38;5;241m.\u001b[39mread_csv(fpath), qtype)\n\u001b[0;32m     41\u001b[0m newname \u001b[38;5;241m=\u001b[39m fname[:\u001b[38;5;241m-\u001b[39m\u001b[38;5;241m3\u001b[39m] \u001b[38;5;241m+\u001b[39m \u001b[38;5;124m'\u001b[39m\u001b[38;5;124m_adj.csv\u001b[39m\u001b[38;5;124m'\u001b[39m\n\u001b[0;32m     42\u001b[0m \u001b[38;5;28mprint\u001b[39m(\u001b[38;5;124mf\u001b[39m\u001b[38;5;124m'\u001b[39m\u001b[38;5;124m   Saving \u001b[39m\u001b[38;5;132;01m{\u001b[39;00mnewname\u001b[38;5;132;01m}\u001b[39;00m\u001b[38;5;124m'\u001b[39m)\n",
      "\u001b[1;31mNameError\u001b[0m: name 'df_add_date_col' is not defined"
     ]
    }
   ],
   "source": [
    "download_from_url(fed_file_list, fed_dir, write_dir, qtype, write_to_parquet)"
   ]
  },
  {
   "cell_type": "code",
   "execution_count": null,
   "id": "fc123a16-fae7-420f-b9f9-e9c5045a11d4",
   "metadata": {},
   "outputs": [],
   "source": []
  }
 ],
 "metadata": {
  "kernelspec": {
   "display_name": "Python 3 (ipykernel)",
   "language": "python",
   "name": "python3"
  },
  "language_info": {
   "codemirror_mode": {
    "name": "ipython",
    "version": 3
   },
   "file_extension": ".py",
   "mimetype": "text/x-python",
   "name": "python",
   "nbconvert_exporter": "python",
   "pygments_lexer": "ipython3",
   "version": "3.11.2"
  }
 },
 "nbformat": 4,
 "nbformat_minor": 5
}
