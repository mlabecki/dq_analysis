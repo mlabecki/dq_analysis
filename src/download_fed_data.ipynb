{
 "cells": [
  {
   "cell_type": "code",
   "execution_count": 1,
   "id": "2451077b-04f0-4249-aa06-3ff865e60f85",
   "metadata": {},
   "outputs": [],
   "source": [
    "import pandas as pd\n",
    "import requests\n",
    "import os\n",
    "from convert_date import *"
   ]
  },
  {
   "cell_type": "code",
   "execution_count": 2,
   "id": "c83852b3-9cd8-4975-bca1-2c016199e7c8",
   "metadata": {},
   "outputs": [],
   "source": [
    "write_dir = 'D:\\\\Python\\\\DQ_exercises\\\\DQ_exercises\\\\downloads\\\\fed_stress_test'\n",
    "fed_dir = 'https://www.federalreserve.gov/supervisionreg/files/'\n",
    "fed_file_list = [\n",
    "    '2024-Table_2A_Historic_Domestic.csv',\n",
    "    '2024-Table_2B_Historic_International.csv',\n",
    "    '2024-Table_3A_Supervisory_Baseline_Domestic.csv',\n",
    "    '2024-Table_3B_Supervisory_Baseline_International.csv',\n",
    "    '2024-Table_4A_Supervisory_Severely_Adverse_Domestic.csv',\n",
    "    '2024-Table_4B_Supervisory_Severely_Adverse_International.csv' \n",
    "]\n",
    "write_to_parquet = True\n",
    "qtype = 'fed'"
   ]
  },
  {
   "cell_type": "code",
   "execution_count": 3,
   "id": "a7b7b6e5-7ef6-4e24-9044-32490d998f14",
   "metadata": {},
   "outputs": [],
   "source": [
    "from download_data import download_from_url"
   ]
  },
  {
   "cell_type": "code",
   "execution_count": 4,
   "id": "71ab573c-3965-4a3e-99d9-007579c2c053",
   "metadata": {},
   "outputs": [
    {
     "name": "stdout",
     "output_type": "stream",
     "text": [
      "Downloading 2024-Table_2A_Historic_Domestic.csv\n",
      "   Saving 2024-Table_2A_Historic_Domestic_adj.csv\n",
      "   Saving 2024-Table_2A_Historic_Domestic.parquet\n",
      "Downloading 2024-Table_2B_Historic_International.csv\n",
      "   Saving 2024-Table_2B_Historic_International_adj.csv\n",
      "   Saving 2024-Table_2B_Historic_International.parquet\n",
      "Downloading 2024-Table_3A_Supervisory_Baseline_Domestic.csv\n",
      "   Saving 2024-Table_3A_Supervisory_Baseline_Domestic_adj.csv\n",
      "   Saving 2024-Table_3A_Supervisory_Baseline_Domestic.parquet\n",
      "Downloading 2024-Table_3B_Supervisory_Baseline_International.csv\n",
      "   Saving 2024-Table_3B_Supervisory_Baseline_International_adj.csv\n",
      "   Saving 2024-Table_3B_Supervisory_Baseline_International.parquet\n",
      "Downloading 2024-Table_4A_Supervisory_Severely_Adverse_Domestic.csv\n",
      "   Saving 2024-Table_4A_Supervisory_Severely_Adverse_Domestic_adj.csv\n",
      "   Saving 2024-Table_4A_Supervisory_Severely_Adverse_Domestic.parquet\n",
      "Downloading 2024-Table_4B_Supervisory_Severely_Adverse_International.csv\n",
      "   Saving 2024-Table_4B_Supervisory_Severely_Adverse_International_adj.csv\n",
      "   Saving 2024-Table_4B_Supervisory_Severely_Adverse_International.parquet\n"
     ]
    }
   ],
   "source": [
    "download_from_url(fed_file_list, fed_dir, write_dir, qtype, write_to_parquet)"
   ]
  },
  {
   "cell_type": "code",
   "execution_count": null,
   "id": "fc123a16-fae7-420f-b9f9-e9c5045a11d4",
   "metadata": {},
   "outputs": [],
   "source": []
  }
 ],
 "metadata": {
  "kernelspec": {
   "display_name": "Python 3 (ipykernel)",
   "language": "python",
   "name": "python3"
  },
  "language_info": {
   "codemirror_mode": {
    "name": "ipython",
    "version": 3
   },
   "file_extension": ".py",
   "mimetype": "text/x-python",
   "name": "python",
   "nbconvert_exporter": "python",
   "pygments_lexer": "ipython3",
   "version": "3.11.2"
  }
 },
 "nbformat": 4,
 "nbformat_minor": 5
}
